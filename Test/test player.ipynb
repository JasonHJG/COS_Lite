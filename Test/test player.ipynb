{
 "cells": [
  {
   "cell_type": "code",
   "execution_count": 1,
   "metadata": {},
   "outputs": [],
   "source": [
    "import sys\n",
    "import numpy as np\n",
    "import matplotlib.pyplot as plt\n",
    "import time\n",
    "% matplotlib inline"
   ]
  },
  {
   "cell_type": "code",
   "execution_count": 2,
   "metadata": {},
   "outputs": [
    {
     "name": "stdout",
     "output_type": "stream",
     "text": [
      "/home/jingang/Desktop/COS_lite/COS_Lite/Test\r\n"
     ]
    }
   ],
   "source": [
    "!pwd"
   ]
  },
  {
   "cell_type": "code",
   "execution_count": 3,
   "metadata": {},
   "outputs": [],
   "source": [
    "sys.path.append('/home/jingang/Desktop/COS_lite/COS_Lite/')"
   ]
  },
  {
   "cell_type": "code",
   "execution_count": 4,
   "metadata": {},
   "outputs": [
    {
     "ename": "SyntaxError",
     "evalue": "invalid syntax (sla.py, line 52)",
     "traceback": [
      "Traceback \u001b[0;36m(most recent call last)\u001b[0m:\n",
      "  File \u001b[1;32m\"/home/jingang/anaconda3/lib/python3.6/site-packages/IPython/core/interactiveshell.py\"\u001b[0m, line \u001b[1;32m2963\u001b[0m, in \u001b[1;35mrun_code\u001b[0m\n    exec(code_obj, self.user_global_ns, self.user_ns)\n",
      "  File \u001b[1;32m\"<ipython-input-4-89bd6b89ae22>\"\u001b[0m, line \u001b[1;32m5\u001b[0m, in \u001b[1;35m<module>\u001b[0m\n    from Model import Strategy\n",
      "\u001b[0;36m  File \u001b[0;32m\"/home/jingang/Desktop/COS_lite/COS_Lite/Model/__init__.py\"\u001b[0;36m, line \u001b[0;32m1\u001b[0;36m, in \u001b[0;35m<module>\u001b[0;36m\u001b[0m\n\u001b[0;31m    from .sla import SLA\u001b[0m\n",
      "\u001b[0;36m  File \u001b[0;32m\"/home/jingang/Desktop/COS_lite/COS_Lite/Model/sla.py\"\u001b[0;36m, line \u001b[0;32m52\u001b[0m\n\u001b[0;31m    learning_rate = 0.01, loss='ls', min_samples_split=2))\u001b[0m\n\u001b[0m                                                         ^\u001b[0m\n\u001b[0;31mSyntaxError\u001b[0m\u001b[0;31m:\u001b[0m invalid syntax\n"
     ],
     "output_type": "error"
    }
   ],
   "source": [
    "from Simulation import Ornstein_Uhlenbeck\n",
    "from Simulation import Generic_functions\n",
    "from Data import Trade_book\n",
    "from Data import Player\n",
    "from Model import Strategy\n",
    "from Model import SLA"
   ]
  },
  {
   "cell_type": "code",
   "execution_count": null,
   "metadata": {},
   "outputs": [],
   "source": [
    "ou = Ornstein_Uhlenbeck()\n",
    "trade_cost = lambda x: Generic_functions.trading_cost(x, 10, 0.1)\n",
    "utility_func = lambda x: Generic_functions.utility_function(x, 0.0001)\n",
    "sla = SLA()\n",
    "strat = Strategy(sla)"
   ]
  },
  {
   "cell_type": "code",
   "execution_count": null,
   "metadata": {},
   "outputs": [],
   "source": [
    "p1 = Player(price_process= ou, utility_function=utility_func, trading_cost=trade_cost, strategy=strat)"
   ]
  },
  {
   "cell_type": "code",
   "execution_count": null,
   "metadata": {},
   "outputs": [],
   "source": [
    "size = 100000\n",
    "for j in range(10):\n",
    "    start = time.time()\n",
    "    for i in range(size):\n",
    "        p1.trade_greedy_one_step(.5 * 0.9 ** j)\n",
    "    p1.update_strategy(size, 1)    \n",
    "    end = time.time()  \n",
    "    print('iteration:',j+1,'time used is', end - start)"
   ]
  },
  {
   "cell_type": "code",
   "execution_count": null,
   "metadata": {},
   "outputs": [],
   "source": [
    "a = np.linspace(start=0,stop=100,num=41)\n",
    "b = []\n",
    "for i in a:\n",
    "    b.append(p1.strategy.learner.predict((i,500),[200, 100, 0, -100, -200]))"
   ]
  },
  {
   "cell_type": "code",
   "execution_count": null,
   "metadata": {},
   "outputs": [],
   "source": [
    "plt.plot(a,b)"
   ]
  },
  {
   "cell_type": "code",
   "execution_count": null,
   "metadata": {},
   "outputs": [],
   "source": [
    "price = np.linspace(start=0,stop=100,num=21)\n",
    "q200 = []\n",
    "q100 = []\n",
    "q0 = []\n",
    "qn100 = []\n",
    "qn200 = []"
   ]
  },
  {
   "cell_type": "code",
   "execution_count": null,
   "metadata": {},
   "outputs": [],
   "source": [
    "pos = 0\n",
    "for p in price:\n",
    "    q200.append(p1.strategy.learner.qval((p, pos),[200]))\n",
    "    q100.append(p1.strategy.learner.qval((p, pos),[100]))\n",
    "    q0.append(p1.strategy.learner.qval((p, pos),[0]))\n",
    "    qn100.append(p1.strategy.learner.qval((p, pos),[-100]))\n",
    "    qn200.append(p1.strategy.learner.qval((p, pos),[-200]))"
   ]
  },
  {
   "cell_type": "code",
   "execution_count": null,
   "metadata": {},
   "outputs": [],
   "source": [
    "plt.figure\n",
    "plt.plot(price, q200, label = '200')\n",
    "plt.plot(price, q100, label = '100')\n",
    "plt.plot(price, q0, label = '0')\n",
    "plt.plot(price, qn100, label = '-100')\n",
    "plt.plot(price, qn200, label = '-200')\n",
    "plt.legend(loc=0)"
   ]
  },
  {
   "cell_type": "code",
   "execution_count": null,
   "metadata": {},
   "outputs": [],
   "source": []
  }
 ],
 "metadata": {
  "kernelspec": {
   "display_name": "Python 3",
   "language": "python",
   "name": "python3"
  },
  "language_info": {
   "codemirror_mode": {
    "name": "ipython",
    "version": 3
   },
   "file_extension": ".py",
   "mimetype": "text/x-python",
   "name": "python",
   "nbconvert_exporter": "python",
   "pygments_lexer": "ipython3",
   "version": "3.6.5"
  },
  "toc": {
   "nav_menu": {},
   "number_sections": true,
   "sideBar": true,
   "skip_h1_title": false,
   "title_cell": "Table of Contents",
   "title_sidebar": "Contents",
   "toc_cell": false,
   "toc_position": {},
   "toc_section_display": true,
   "toc_window_display": false
  }
 },
 "nbformat": 4,
 "nbformat_minor": 2
}
