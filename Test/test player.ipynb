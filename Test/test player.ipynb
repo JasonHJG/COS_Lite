{
 "cells": [
  {
   "cell_type": "code",
   "execution_count": 1,
   "metadata": {
    "collapsed": true
   },
   "outputs": [],
   "source": [
    "import sys\n",
    "import numpy as np\n",
    "import matplotlib.pyplot as plt\n",
    "import time\n",
    "% matplotlib inline"
   ]
  },
  {
   "cell_type": "code",
   "execution_count": 2,
   "metadata": {},
   "outputs": [
    {
     "name": "stdout",
     "output_type": "stream",
     "text": [
      "/Users/jingang/PycharmProjects/RL_Lite/Test\r\n"
     ]
    }
   ],
   "source": [
    "!pwd"
   ]
  },
  {
   "cell_type": "code",
   "execution_count": 3,
   "metadata": {
    "collapsed": true
   },
   "outputs": [],
   "source": [
    "sys.path.append('/Users/jingang/PycharmProjects/RL_Lite')"
   ]
  },
  {
   "cell_type": "code",
   "execution_count": 4,
   "metadata": {},
   "outputs": [],
   "source": [
    "from Simulation import Ornstein_Uhlenbeck\n",
    "from Simulation import Generic_functions\n",
    "from Data import Trade_book\n",
    "from Data import Player\n",
    "from Model import Strategy\n",
    "from Model import SLA"
   ]
  },
  {
   "cell_type": "code",
   "execution_count": 5,
   "metadata": {
    "collapsed": true
   },
   "outputs": [],
   "source": [
    "ou = Ornstein_Uhlenbeck()\n",
    "trade_cost = lambda x: Generic_functions.trading_cost(x, 10, 0.1)\n",
    "utility_func = lambda x: Generic_functions.utility_function(x, 0.0001)\n",
    "sla = SLA()\n",
    "strat = Strategy(sla)"
   ]
  },
  {
   "cell_type": "code",
   "execution_count": 6,
   "metadata": {
    "collapsed": true
   },
   "outputs": [],
   "source": [
    "p1 = Player(price_process= ou, utility_function=utility_func, trading_cost=trade_cost, strategy=strat)"
   ]
  },
  {
   "cell_type": "code",
   "execution_count": 7,
   "metadata": {},
   "outputs": [
    {
     "name": "stdout",
     "output_type": "stream",
     "text": [
      "250001\n",
      "accuracy is :  0.261786342196\n",
      "time used is 10.383300304412842\n",
      "250001\n",
      "accuracy is :  0.452703793038\n",
      "time used is 44.75338006019592\n",
      "250001\n",
      "accuracy is :  0.484085485773\n",
      "time used is 110.97771191596985\n",
      "250001\n",
      "accuracy is :  0.455089596262\n",
      "time used is 167.7966639995575\n",
      "250001\n",
      "accuracy is :  0.457659871838\n",
      "time used is 209.3059389591217\n",
      "250001\n",
      "accuracy is :  0.481956809982\n",
      "time used is 256.5787787437439\n"
     ]
    }
   ],
   "source": [
    "start = time.time()\n",
    "for i in range(250000):\n",
    "    p1.trade_greedy_one_step(.95)\n",
    "p1.update_strategy(250000, 1)    \n",
    "end = time.time()  \n",
    "print('time used is', end - start)\n",
    "\n",
    "start = time.time()\n",
    "for i in range(250000):\n",
    "    p1.trade_greedy_one_step(.75)\n",
    "p1.update_strategy(250000, 1)\n",
    "end = time.time()\n",
    "print('time used is', end - start)\n",
    "\n",
    "start = time.time()\n",
    "for i in range(250000):\n",
    "    p1.trade_greedy_one_step(.25)\n",
    "p1.update_strategy(250000, 1)   \n",
    "end = time.time()\n",
    "print('time used is', end - start)\n",
    "\n",
    "start = time.time()\n",
    "for i in range(250000):\n",
    "    p1.trade_greedy_one_step(.05)\n",
    "p1.update_strategy(250000, 1)    \n",
    "end = time.time()\n",
    "print('time used is', end - start)\n",
    "\n",
    "start = time.time()\n",
    "for i in range(250000):\n",
    "    p1.trade_greedy_one_step(.01)\n",
    "p1.update_strategy(250000, 1)\n",
    "end = time.time()\n",
    "print('time used is', end - start)\n",
    "\n",
    "start = time.time()\n",
    "for i in range(250000):\n",
    "    p1.trade_greedy_one_step(.01)\n",
    "p1.update_strategy(250000, 1) \n",
    "end = time.time()\n",
    "print('time used is', end - start)"
   ]
  },
  {
   "cell_type": "code",
   "execution_count": 8,
   "metadata": {},
   "outputs": [],
   "source": [
    "a = np.linspace(start=0,stop=100,num=41)\n",
    "b = []\n",
    "for i in a:\n",
    "    b.append(p1.strategy.learner.predict((i,0),[200, 100, 0, -100, -200]))"
   ]
  },
  {
   "cell_type": "code",
   "execution_count": 9,
   "metadata": {},
   "outputs": [
    {
     "data": {
      "text/plain": [
       "[<matplotlib.lines.Line2D at 0x1a20b437b8>]"
      ]
     },
     "execution_count": 9,
     "metadata": {},
     "output_type": "execute_result"
    },
    {
     "data": {
      "image/png": "[encoded data removed]",
      "text/plain": [
       "<matplotlib.figure.Figure at 0x114df7eb8>"
      ]
     },
     "metadata": {},
     "output_type": "display_data"
    }
   ],
   "source": [
    "plt.plot(a,b)"
   ]
  },
  {
   "cell_type": "code",
   "execution_count": 10,
   "metadata": {
    "collapsed": true
   },
   "outputs": [],
   "source": [
    "price = np.linspace(start=0,stop=100,num=21)\n",
    "q200 = []\n",
    "q100 = []\n",
    "q0 = []\n",
    "qn100 = []\n",
    "qn200 = []"
   ]
  },
  {
   "cell_type": "code",
   "execution_count": 11,
   "metadata": {},
   "outputs": [],
   "source": [
    "pos = 0\n",
    "for p in price:\n",
    "    q200.append(p1.strategy.learner.qval((p, pos),[200]))\n",
    "    q100.append(p1.strategy.learner.qval((p, pos),[100]))\n",
    "    q0.append(p1.strategy.learner.qval((p, pos),[0]))\n",
    "    qn100.append(p1.strategy.learner.qval((p, pos),[-100]))\n",
    "    qn200.append(p1.strategy.learner.qval((p, pos),[-200]))"
   ]
  },
  {
   "cell_type": "code",
   "execution_count": 12,
   "metadata": {},
   "outputs": [
    {
     "data": {
      "text/plain": [
       "<matplotlib.legend.Legend at 0x1a20bedda0>"
      ]
     },
     "execution_count": 12,
     "metadata": {},
     "output_type": "execute_result"
    },
    {
     "data": {
      "image/png": "[encoded data removed]",
      "text/plain": [
       "<matplotlib.figure.Figure at 0x1a20f68da0>"
      ]
     },
     "metadata": {},
     "output_type": "display_data"
    }
   ],
   "source": [
    "plt.figure\n",
    "plt.plot(price, q200, label = '200')\n",
    "plt.plot(price, q100, label = '100')\n",
    "plt.plot(price, q0, label = '0')\n",
    "plt.plot(price, qn100, label = '-100')\n",
    "plt.plot(price, qn200, label = '-200')\n",
    "plt.legend(loc=0)"
   ]
  },
  {
   "cell_type": "code",
   "execution_count": null,
   "metadata": {
    "collapsed": true
   },
   "outputs": [],
   "source": []
  }
 ],
 "metadata": {
  "kernelspec": {
   "display_name": "Python 3",
   "language": "python",
   "name": "python3"
  },
  "language_info": {
   "codemirror_mode": {
    "name": "ipython",
    "version": 3
   },
   "file_extension": ".py",
   "mimetype": "text/x-python",
   "name": "python",
   "nbconvert_exporter": "python",
   "pygments_lexer": "ipython3",
   "version": "3.6.3"
  },
  "toc": {
   "nav_menu": {},
   "number_sections": true,
   "sideBar": true,
   "skip_h1_title": false,
   "title_cell": "Table of Contents",
   "title_sidebar": "Contents",
   "toc_cell": false,
   "toc_position": {},
   "toc_section_display": true,
   "toc_window_display": false
  }
 },
 "nbformat": 4,
 "nbformat_minor": 2
}
