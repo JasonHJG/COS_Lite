{
 "cells": [
  {
   "cell_type": "code",
   "execution_count": 1,
   "metadata": {},
   "outputs": [],
   "source": [
    "import sys\n",
    "import numpy as np\n",
    "import matplotlib.pyplot as plt\n",
    "import time\n",
    "% matplotlib inline"
   ]
  },
  {
   "cell_type": "code",
   "execution_count": 2,
   "metadata": {},
   "outputs": [
    {
     "name": "stdout",
     "output_type": "stream",
     "text": [
      "/home/jingang/Desktop/COS_lite/COS_Lite/Test\r\n"
     ]
    }
   ],
   "source": [
    "!pwd"
   ]
  },
  {
   "cell_type": "code",
   "execution_count": 3,
   "metadata": {},
   "outputs": [],
   "source": [
    "sys.path.append('/home/jingang/Desktop/COS_lite/COS_Lite/')"
   ]
  },
  {
   "cell_type": "code",
   "execution_count": 4,
   "metadata": {},
   "outputs": [],
   "source": [
    "from Simulation import Ornstein_Uhlenbeck\n",
    "from Simulation import Generic_functions\n",
    "from Data import Trade_book\n",
    "from Data import Player\n",
    "from Model import Strategy\n",
    "from Model import SLA"
   ]
  },
  {
   "cell_type": "code",
   "execution_count": 5,
   "metadata": {},
   "outputs": [],
   "source": [
    "ou = Ornstein_Uhlenbeck()\n",
    "trade_cost = lambda x: Generic_functions.trading_cost(x, 10, 0.1)\n",
    "utility_func = lambda x: Generic_functions.utility_function(x, 0.0001)\n",
    "sla = SLA()\n",
    "strat = Strategy(sla)"
   ]
  },
  {
   "cell_type": "code",
   "execution_count": 6,
   "metadata": {},
   "outputs": [],
   "source": [
    "p1 = Player(price_process= ou, utility_function=utility_func, trading_cost=trade_cost, strategy=strat)"
   ]
  },
  {
   "cell_type": "code",
   "execution_count": 7,
   "metadata": {},
   "outputs": [
    {
     "name": "stdout",
     "output_type": "stream",
     "text": [
      "5001\n",
      "accuracy is :  0.1448236672808041\n",
      "iteration: 1 time used is 1.8685328960418701\n",
      "5001\n",
      "accuracy is :  0.3667610795958345\n",
      "iteration: 2 time used is 7.639226913452148\n",
      "5001\n",
      "accuracy is :  0.39845590216625115\n",
      "iteration: 3 time used is 15.678950786590576\n",
      "5001\n",
      "accuracy is :  0.45146825255028455\n",
      "iteration: 4 time used is 31.3019859790802\n",
      "5001\n",
      "accuracy is :  0.4694646657523529\n",
      "iteration: 5 time used is 47.4276487827301\n",
      "5001\n",
      "accuracy is :  0.5184175462308029\n",
      "iteration: 6 time used is 63.74190139770508\n",
      "5001\n",
      "accuracy is :  0.43307574451033515\n",
      "iteration: 7 time used is 82.80139875411987\n",
      "5001\n",
      "accuracy is :  0.5900665705489951\n",
      "iteration: 8 time used is 99.89277148246765\n",
      "5001\n",
      "accuracy is :  0.4464764525280429\n",
      "iteration: 9 time used is 118.3842933177948\n",
      "5001\n",
      "accuracy is :  0.5150311264819623\n",
      "iteration: 10 time used is 133.47190499305725\n",
      "5001\n",
      "accuracy is :  0.5762004762838441\n",
      "iteration: 11 time used is 152.61032223701477\n",
      "5001\n",
      "accuracy is :  0.48156791590798437\n",
      "iteration: 12 time used is 170.09770584106445\n",
      "5001\n",
      "accuracy is :  0.4683828078459855\n",
      "iteration: 13 time used is 187.8831822872162\n",
      "5001\n",
      "accuracy is :  0.5382958633866243\n",
      "iteration: 14 time used is 206.70139408111572\n",
      "5001\n",
      "accuracy is :  0.5274180921280953\n",
      "iteration: 15 time used is 224.66119956970215\n",
      "5001\n",
      "accuracy is :  0.48377777793693666\n",
      "iteration: 16 time used is 244.13929080963135\n",
      "5001\n",
      "accuracy is :  0.5998787666186758\n",
      "iteration: 17 time used is 261.5055265426636\n",
      "5001\n",
      "accuracy is :  0.5216657251863381\n",
      "iteration: 18 time used is 280.34699034690857\n",
      "5001\n",
      "accuracy is :  0.5047331432214233\n",
      "iteration: 19 time used is 299.3052577972412\n",
      "5001\n",
      "accuracy is :  0.5330435333212206\n",
      "iteration: 20 time used is 340.06575536727905\n"
     ]
    }
   ],
   "source": [
    "size = 50000\n",
    "for j in range(20):\n",
    "    start = time.time()\n",
    "    for i in range(size):\n",
    "        p1.trade_greedy_one_step(.5 * 0.9 ** j)\n",
    "    p1.update_strategy(size, 1)    \n",
    "    end = time.time()  \n",
    "    print('iteration:',j+1,'time used is', end - start)"
   ]
  },
  {
   "cell_type": "code",
   "execution_count": 8,
   "metadata": {},
   "outputs": [],
   "source": [
    "a = np.linspace(start=0,stop=100,num=41)\n",
    "b = []\n",
    "for i in a:\n",
    "    b.append(p1.strategy.learner.predict((i,500),[200, 100, 0, -100, -200]))"
   ]
  },
  {
   "cell_type": "code",
   "execution_count": 9,
   "metadata": {},
   "outputs": [
    {
     "data": {
      "text/plain": [
       "[<matplotlib.lines.Line2D at 0x7ff50c198438>]"
      ]
     },
     "execution_count": 9,
     "metadata": {},
     "output_type": "execute_result"
    },
    {
     "data": {
      "image/png": "[encoded data removed]",
      "text/plain": [
       "<Figure size 432x288 with 1 Axes>"
      ]
     },
     "metadata": {},
     "output_type": "display_data"
    }
   ],
   "source": [
    "plt.plot(a,b)"
   ]
  },
  {
   "cell_type": "code",
   "execution_count": 10,
   "metadata": {},
   "outputs": [],
   "source": [
    "price = np.linspace(start=0,stop=100,num=21)\n",
    "q200 = []\n",
    "q100 = []\n",
    "q0 = []\n",
    "qn100 = []\n",
    "qn200 = []"
   ]
  },
  {
   "cell_type": "code",
   "execution_count": 11,
   "metadata": {},
   "outputs": [],
   "source": [
    "pos = 0\n",
    "for p in price:\n",
    "    q200.append(p1.strategy.learner.qval((p, pos),[200]))\n",
    "    q100.append(p1.strategy.learner.qval((p, pos),[100]))\n",
    "    q0.append(p1.strategy.learner.qval((p, pos),[0]))\n",
    "    qn100.append(p1.strategy.learner.qval((p, pos),[-100]))\n",
    "    qn200.append(p1.strategy.learner.qval((p, pos),[-200]))"
   ]
  },
  {
   "cell_type": "code",
   "execution_count": 12,
   "metadata": {},
   "outputs": [
    {
     "data": {
      "text/plain": [
       "<matplotlib.legend.Legend at 0x7ff50be0f710>"
      ]
     },
     "execution_count": 12,
     "metadata": {},
     "output_type": "execute_result"
    },
    {
     "data": {
      "image/png": "[encoded data removed]",
      "text/plain": [
       "<Figure size 432x288 with 1 Axes>"
      ]
     },
     "metadata": {},
     "output_type": "display_data"
    }
   ],
   "source": [
    "plt.figure\n",
    "plt.plot(price, q200, label = '200')\n",
    "plt.plot(price, q100, label = '100')\n",
    "plt.plot(price, q0, label = '0')\n",
    "plt.plot(price, qn100, label = '-100')\n",
    "plt.plot(price, qn200, label = '-200')\n",
    "plt.legend(loc=0)"
   ]
  },
  {
   "cell_type": "code",
   "execution_count": null,
   "metadata": {},
   "outputs": [],
   "source": []
  }
 ],
 "metadata": {
  "kernelspec": {
   "display_name": "Python 3",
   "language": "python",
   "name": "python3"
  },
  "language_info": {
   "codemirror_mode": {
    "name": "ipython",
    "version": 3
   },
   "file_extension": ".py",
   "mimetype": "text/x-python",
   "name": "python",
   "nbconvert_exporter": "python",
   "pygments_lexer": "ipython3",
   "version": "3.6.5"
  },
  "toc": {
   "nav_menu": {},
   "number_sections": true,
   "sideBar": true,
   "skip_h1_title": false,
   "title_cell": "Table of Contents",
   "title_sidebar": "Contents",
   "toc_cell": false,
   "toc_position": {},
   "toc_section_display": true,
   "toc_window_display": false
  }
 },
 "nbformat": 4,
 "nbformat_minor": 2
}
